{
 "cells": [
  {
   "cell_type": "markdown",
   "metadata": {},
   "source": [
    "- GitHub repo for the tutorial: https://github.com/MridulS/pyconpl-2017-networkx please clone the repo to access the notebooks and the datasets.\n",
    "- People unfamiliar with Git can download the notebooks from https://github.com/MridulS/pyconpl-2017-networkx/archive/master.zip\n",
    "- Please follow the instructions in the README to install required dependencies\n",
    "- make sure the env is up and running using ``python checkenv.py``\n",
    "- Python3 Python3 Python3 !!! (the tutorial may work with python2)\n"
   ]
  }
 ],
 "metadata": {
  "kernelspec": {
   "display_name": "Python 3",
   "language": "python",
   "name": "python3"
  },
  "language_info": {
   "codemirror_mode": {
    "name": "ipython",
    "version": 3
   },
   "file_extension": ".py",
   "mimetype": "text/x-python",
   "name": "python",
   "nbconvert_exporter": "python",
   "pygments_lexer": "ipython3",
   "version": "3.6.1"
  }
 },
 "nbformat": 4,
 "nbformat_minor": 2
}
